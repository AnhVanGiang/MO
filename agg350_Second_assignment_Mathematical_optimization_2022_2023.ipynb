{
  "cells": [
    {
      "cell_type": "markdown",
      "metadata": {
        "id": "view-in-github",
        "colab_type": "text"
      },
      "source": [
        "<a href=\"https://colab.research.google.com/github/AnhVanGiang/MO/blob/main/agg350_Second_assignment_Mathematical_optimization_2022_2023.ipynb\" target=\"_parent\"><img src=\"https://colab.research.google.com/assets/colab-badge.svg\" alt=\"Open In Colab\"/></a>"
      ]
    },
    {
      "cell_type": "markdown",
      "metadata": {
        "id": "gEMXnpY6ckmy"
      },
      "source": [
        "# Second assigment - Mathematical Optimization 2022-2023\n",
        "The second assignment consists of three parts. The first part concerns the implementation of a elastic net regression method as a convex program. The second part asks you to solve a wind turbine placement problem using stochastic programming. The third part requires you to implement a chance-constrained problem in the context of renewable energy sources. Each part gives a total of 30 points and the final assignment grade is determined by `(# points / 90) * 9 + 1`.\n"
      ]
    },
    {
      "cell_type": "markdown",
      "metadata": {
        "id": "htNfH7HqHEur"
      },
      "source": [
        "## Setup\n",
        "We import here all libraries and solvers needed for the entire assignment. Make sure to use `ipopt` for solving convex programs and `gurobi` for solving mixed-integer linear programs."
      ]
    },
    {
      "cell_type": "code",
      "execution_count": 1,
      "metadata": {
        "colab": {
          "base_uri": "https://localhost:8080/"
        },
        "id": "_kYWVYOeE85C",
        "outputId": "962717d8-615b-47a7-8e09-5c8e4d625f3b"
      },
      "outputs": [
        {
          "output_type": "stream",
          "name": "stdout",
          "text": [
            "Installing pyomo from idaes_pse via pip ... installation successful\n",
            "Installing ipopt and k_aug on Google Colab via idaes get-extensions ... installation successful\n",
            "Installing gurobi on Google Colab via pip ... installation successful\n"
          ]
        }
      ],
      "source": [
        "import httpimport\n",
        "\n",
        "with httpimport.github_repo('alessandrozocca', 'MO2022', 'helpers'):\n",
        "    from helpers import installer    \n",
        "\n",
        "    if installer.on_colab():\n",
        "        installer.install_pyomo()\n",
        "        installer.install_ipopt()\n",
        "        installer.install_gurobi()\n",
        "\n",
        "    from helpers.assignment2 import read_elastic_net_data, generate_wind_farm_data, plot_wind_farm, read_economic_dispatch_data"
      ]
    },
    {
      "cell_type": "code",
      "execution_count": 2,
      "metadata": {
        "id": "qFSxt7z9HDsC"
      },
      "outputs": [],
      "source": [
        "import requests\n",
        "import time\n",
        "\n",
        "from IPython.display import Markdown, HTML\n",
        "import matplotlib.pyplot as plt\n",
        "import numpy as np\n",
        "import pandas as pd\n",
        "import pyomo.environ as pyo\n",
        "\n",
        "%matplotlib inline "
      ]
    },
    {
      "cell_type": "markdown",
      "metadata": {
        "id": "I8iA9SWeGlwX"
      },
      "source": [
        "# Part 1: Elastic net (30 points)"
      ]
    },
    {
      "cell_type": "markdown",
      "metadata": {
        "id": "SnRj2mbtwAQt"
      },
      "source": [
        "Suppose we have a finite dataset consisting of $n$ points $\\{({X}^{(i)}, y^{(i)})\\}_{i=1,\\dots,n}$ with ${X}^{(i)} \\in \\mathbb{R}^k$ and $y^{(i)} \\in \\mathbb{R}$. Consider least-square error linear regression with two regularizing terms, that is\n",
        "\n",
        "$$\n",
        "\\min_\\beta \\frac{1}{2n} \\lVert y – X \\beta \\rVert_2^2 + \\alpha \\cdot ( \\lambda \\lVert \\beta \\rVert_1 + \\frac{1}{2} (1-\\lambda) \\lVert \\beta \\rVert_2^2 ),\n",
        "$$ \n",
        "\n",
        "with $\\lambda \\in [0,1]$ and $\\alpha \\in [0.25, 1.75]$. This regression method is known as the [elastic net](https://en.wikipedia.org/wiki/Elastic_net_regularization), which combines the $L_1$ (Lasso) and $L_2$ (Ridge) regression methods. "
      ]
    },
    {
      "cell_type": "markdown",
      "metadata": {
        "id": "u2HOl1064Tw4"
      },
      "source": [
        "## Data\n",
        "For this part of the assignment, we import a simple data set on wind speed realizations. The `X` variable contains the features and the `y` variables corresponds to the realized wind speed."
      ]
    },
    {
      "cell_type": "code",
      "execution_count": 3,
      "metadata": {
        "id": "F5RLekQQFD8B"
      },
      "outputs": [],
      "source": [
        "X, y = read_elastic_net_data()"
      ]
    },
    {
      "cell_type": "markdown",
      "source": [
        "## Solver\n",
        "`ipopt` should be used in this part of the assignment:"
      ],
      "metadata": {
        "id": "3kWvAS7dlW0y"
      }
    },
    {
      "cell_type": "code",
      "source": [
        "ipopt_solver = pyo.SolverFactory('ipopt')"
      ],
      "metadata": {
        "id": "_HZDalzjlfqx"
      },
      "execution_count": 4,
      "outputs": []
    },
    {
      "cell_type": "markdown",
      "metadata": {
        "id": "tIFUlrLu4SlX"
      },
      "source": [
        "## Questions part 1\n",
        "**Important:** For this part of the assignment, you are allowed to use the companion notebook on [Ordinary Least Squares regression](https://mobook.github.io/MO-book/notebooks/05/ols-regression.html).\n",
        "\n",
        "  1. [10 pts] Consider the regularizing term in isolation, that is $$\\lambda \\lVert \\beta \\rVert_1 + \\frac{1}{2} (1-\\lambda) \\lVert \\beta \\rVert_2^2.$$ Is this term always a convex function of $\\beta$ or does it depend on the value of the coefficient $\\lambda$? Is this term always a *strictly* convex function of $\\beta$ or does it depend on the value of the coefficient $\\lambda$?\n",
        "\n",
        "  2. [15 pts] Implement a ```pyomo``` concrete model that takes $\\alpha$, $\\lambda$ and a dataset $(X,y)$ and builds the elastic net model. Solve the model you built to return the results for Lasso ($\\lambda = 1$) and Ridge ($\\lambda = 0$) regularization with $\\alpha = 1$, using the data set above (contained in the `X`, `y` variables). The results should include the objective value and the solution $\\beta$. Comment on the differences of the two vectors of regressors $\\beta$’s returned by the two models.\n",
        "\n",
        "  3. [5 pts] Assume that $\\lambda$ is now a variable instead of a parameter. In other words, the optimization problem that we try to solve is $$\n",
        "\\min_{\\beta \\in \\mathbb{R}^k,\\lambda \\in [0, 1]} \\frac{1}{2n} \\lVert y – X \\beta \\rVert_2^2 + \\alpha \\cdot ( \\lambda \\lVert \\beta \\rVert_1 + \\frac{1}{2} (1-\\lambda) \\lVert \\beta \\rVert_2^2 ),$$ with $\\alpha \\in [0, 1]$. Can we find the optimal $\\lambda$ by solving the model as convex optimization problem? Explain your answer. You do not have to implement this model."
      ]
    },
    {
      "cell_type": "markdown",
      "metadata": {
        "id": "JTwUngd7bysi"
      },
      "source": [
        "### Question 1.1"
      ]
    },
    {
      "cell_type": "markdown",
      "metadata": {
        "id": "VSzWdWYfFoDf"
      },
      "source": [
        "For the function to be convex, it requires both $f_1 = \\lambda \\lVert \\beta \\rVert_1$ and $f_2 = \\frac{1}{2} (1 - \\lambda)\\lVert \\beta \\rVert_2$ to be convex (one can easily plot and check otherwise). First let check $f_1$, we have that $f_1 = \\lambda \\lVert \\beta \\rVert_1$ with $\\lVert \\beta \\rVert_1$ convex so for $f_1$ to be convex, it follows that $\\lambda \\lVert \\xi v + (1 - \\xi) w \\rVert_1 \\leq \\lambda (\\xi \\lVert v \\lVert_1 + (1 - \\xi) \\lVert v \\rVert_1)$ for $\\lVert \\xi v + (1 - \\xi) w \\rVert_1 \\leq (\\xi \\lVert v \\lVert_1 + (1 - \\xi) \\lVert v \\rVert_1)$ with $\\xi \\in [0,1]$ and $v,w \\in \\mathbb{R}^k$. This hold if $\\lambda \\geq 0$. Do the same thing for $f_2 = \\frac{1}{2} (1 - \\lambda)\\lVert \\beta \\rVert_2$, we need $1 - \\lambda > 0$ or $\\lambda \\leq 1$. Thus, for the function to be convex, we need $\\lambda \\in [0,1]$. Since a function is strictly convex then it is convex, it follows that the strict convexity of the function depends on $\\lambda$ as well.  "
      ]
    },
    {
      "cell_type": "markdown",
      "metadata": {
        "id": "hHPQeg_Gb9Wj"
      },
      "source": [
        "### Question 1.2"
      ]
    },
    {
      "cell_type": "markdown",
      "metadata": {
        "id": "YRvmfaRwCirY"
      },
      "source": []
    },
    {
      "cell_type": "code",
      "execution_count": 5,
      "metadata": {
        "id": "DJ-rWmKsFzHQ"
      },
      "outputs": [],
      "source": [
        "def elastic_net(alpha, lam, X, y):\n",
        "    \n",
        "    n, k = X.shape\n",
        "\n",
        "    model = pyo.ConcreteModel()\n",
        "\n",
        "    model.rowind = pyo.Set(initialize=range(n))\n",
        "    model.colind = pyo.Set(initialize=range(k))\n",
        "\n",
        "    model.xp = pyo.Var(model.colind, domain=pyo.PositiveReals)\n",
        "    model.xm = pyo.Var(model.colind, domain=pyo.PositiveReals)\n",
        "\n",
        "    @model.Objective(sense=pyo.minimize)\n",
        "    def objective(model):\n",
        "      return 1/(2*n) * sum((y[i] - sum(X[i, j] * (model.xp[j] - model.xm[j]) for j in model.colind))**2 for i in model.rowind) + \\\n",
        "      alpha * (lam * sum((model.xp[j] + model.xm[j]) for j in model.colind) + 1/2 * (1 - lam) * sum((model.xp[j] - model.xm[j])**2 for j in model.colind))\n",
        "\n",
        "    return model "
      ]
    },
    {
      "cell_type": "code",
      "execution_count": 6,
      "metadata": {
        "id": "xCZk8PTxC0Ra",
        "colab": {
          "base_uri": "https://localhost:8080/"
        },
        "outputId": "68ad538e-2776-4bb1-d267-96146ae1d638"
      },
      "outputs": [
        {
          "output_type": "stream",
          "name": "stdout",
          "text": [
            "20.779638448210335 [9.919363068543326e-09, 0.2835834052747683, 0.0, 0.6364818936426365, 0.0, 0.0, -0.22995997377737531]\n"
          ]
        }
      ],
      "source": [
        "lasso_model = elastic_net(1, 1, X, y)\n",
        "result = ipopt_solver.solve(lasso_model)\n",
        "objective, betas = lasso_model.objective(), [lasso_model.xp[j]() - lasso_model.xm[j]() for j in range(len(lasso_model.xm))]\n",
        "print(objective, betas)"
      ]
    },
    {
      "cell_type": "code",
      "source": [
        "ridge_model = elastic_net(1, 0, X, y) \n",
        "result = ipopt_solver.solve(ridge_model)\n",
        "objective, betas = ridge_model.objective(), [ridge_model.xp[j]() - ridge_model.xm[j]() for j in range(len(lasso_model.xm))]\n",
        "print(objective, betas)"
      ],
      "metadata": {
        "id": "FEeFptvjk78S",
        "colab": {
          "base_uri": "https://localhost:8080/"
        },
        "outputId": "abce4a50-0b0a-47ac-ff8b-20e5112f574c"
      },
      "execution_count": 7,
      "outputs": [
        {
          "output_type": "stream",
          "name": "stdout",
          "text": [
            "19.695331342060282 [0.28262422190843234, 0.32625034110037415, 0.04449235970444548, 0.5683956122895611, 0.17014641323171176, 0.16923015792155333, -0.3384860482921063]\n"
          ]
        }
      ]
    },
    {
      "cell_type": "markdown",
      "source": [
        "The Lasso regularization results in multiple 0 values of $\\beta$ as opposed to the Ridge one because Lasso regularization is often used in feature selections thus features that are deemed non-important are regularized to 0. "
      ],
      "metadata": {
        "id": "rYQlRvS7aJqO"
      }
    },
    {
      "cell_type": "markdown",
      "metadata": {
        "id": "6QoWK-XOcHGf"
      },
      "source": [
        "### Question 1.3"
      ]
    },
    {
      "cell_type": "markdown",
      "metadata": {
        "id": "ZsbY7jKfcIzV"
      },
      "source": [
        "It is possible to find optimal $\\lambda$ by solving the model as a convex optimization problem and constraint $\\lambda \\in [0,1]$. Because for $\\lambda \\in [0,1]$ the problem is still convex and thus, a minimum exists. Also, I have implemented a model for the scenario and it is indeed solvable."
      ]
    },
    {
      "cell_type": "markdown",
      "metadata": {
        "id": "yZ3JUKOicOoy"
      },
      "source": [
        "# Part 2: Stochastic wind turbine placement (30 points)"
      ]
    },
    {
      "cell_type": "markdown",
      "metadata": {
        "id": "nx9UXM1ZBXwv"
      },
      "source": [
        "To reduce human impact on the enviroment we need to, among other things, adopt sustainable energy solutions as much as we can. In the second part of the assignment, your task is to optimize the design of an offshore wind farm by deciding both the number of turbines to place and their location in order to maximize the *expected annual energy production*. \n",
        "\n",
        "<img style=\"float: center\" width=\"42%\" src=\"https://www.azocleantech.com/images/Article_Images/ImageForArticle_1072_15838579104765310.png\">\n",
        "<img style=\"float: center\" width=\"50.5%\" src=\"https://images-global.nhst.tech/image/UVowQXJqcWJ1SGRkWG5na01OeUU3MitmcGdpbXVxVnBNdmRlY3dEZUFSaz0=/nhst/binary/54ac8d5f8f2568024e60e932a476bf60\">"
      ]
    },
    {
      "cell_type": "markdown",
      "metadata": {
        "id": "i-InFJ_-BXww"
      },
      "source": [
        "## Problem description\n",
        "\n",
        "Wind turbines convert wind energy to electricity. Past wind speed and angles observations and the characteristics of the turbine chosen are used to convert the wind measurements into the wind energy production, if placed on a specific site. \n",
        "\n",
        "Every turbine affects the performance of the other turbines nearby. More specifically, there will be a **wake** behind each turbine, a long trail of wind which is quite turbulent and slowed down (see figure above). This is the so-called [wake effect](http://xn--drmstrre-64ad.dk/wp-content/wind/miller/windpower%20web/en/tour/wres/wake.htm). The interference caused by each possible turbine site on each other possible turbine site translates into losses of wind energy production. \n",
        "\n"
      ]
    },
    {
      "cell_type": "markdown",
      "metadata": {
        "id": "sita4TB5BXwx"
      },
      "source": [
        "## The deterministic MILP\n",
        "\n",
        "Consider the following MILP that aims to find the best wind turbine placement problem while accounting for the intereference between turbines due to the wake effect:\n",
        "\n",
        "$$\n",
        "\\begin{array}{llrl}\n",
        "\\max & \\sum_{i \\in V} P x_i- \\ell_i \\\\\n",
        "\\, \\mbox{ s.t.} & \\sum_{i \\in V} x_i \\geq \\nu,\\\\\n",
        "& \\sum_{i \\in V} x_i \\leq \\mu,\\\\\n",
        "& x_i + x_j \\leq 1, & \\forall i, j : d(i,j) \\leq \\delta, \\\\ \n",
        "& \\sum_{j \\in V, i \\neq j,} I_{ij} x_j \\leq \\ell_i + M_i(1-x_i),  & \\forall i \\in V,\\\\\n",
        "& x_i \\in \\{ 0, 1 \\}, & \\forall i \\in V,\\\\\n",
        "& \\ell_i \\geq 0, & \\forall i \\in V.\\\\\n",
        "\\end{array}\n",
        "$$\n",
        "\n",
        "The parameters of the model are:\n",
        " * $V$ is the collection of sites where the turbines could be placed, obtained as regularly distanced points on a $6\\times 6$ grid. \n",
        " * $P$ is the nominal energy production of a turbine without wake effects. We assume all turbines are identical and would thus produce the same nominal energy.\n",
        " * $I_{ij}$ is the interference (loss of energy production) caused by a turbine placed at $j$ on a turbine placed at $i$.\n",
        " * $\\nu$ is the minimum number of turbines to be placed.\n",
        " * $\\mu$ is the maximum number of turbines to be placed.\n",
        " * $\\delta$ is a minimum feasible distance and $d(i, j)$ is the Euclidean distance between two sites.\n",
        "\n",
        "The decision variables of the model are:\n",
        " * $x_i \\in \\{0,1\\}$ describes whether or not a wind turbine is placed at site $i\\in V$\n",
        " * $\\ell_i \\geq 0$ describes the lost wind energy production for the turbine at site $i$ due to the combined wake effect of all the other turbines that have been placed.\n",
        "\n",
        "The objective of the model is to maximize the sum of the nominal energy production of the placed turbines minus the total lost energy production due the interference experienced by the placed turbines.\n",
        "\n",
        "The constraints of the model are:\n",
        "- The 1st constraint sets a lower bound for the number of turbines to be placed.\n",
        "- The 2nd constraints sets a upper bound for the number of turbines to be placed.\n",
        "- The 3rd consraint ensures that two wind turbines can only be placed in two sites if these are at Euclidean distance $d(\\cdot,\\cdot)$ at least $\\delta$ from each other.\n",
        "- The 4th constraint calculate the lost wind energy production $\\ell_i$ that turbine $i$ may experience, if placed. In particular, if turbine $i$ is not placed (i.e. $x_i=0$), then no interference should be experienced by that turbine (i.e. $\\ell_i=0$). On the other hand, we want to make sure that if a turbine is placed (i.e. $x_i=1$), then the interference on turbine $i$ should be exactly equal to the cumulative sum of the interferences $I_{ij}$ due to all other turbines $j$ that are placed. The valid value of big-M constants $M_i$ have been already pre-determined for you given the other parameters of the model are fixed.\n",
        "\n",
        "Below you can find the Pyomo implementation of the above MILP."
      ]
    },
    {
      "cell_type": "code",
      "source": [
        "def wind_farm_model(\n",
        "    n_sites, coords, production, min_distance, min_turbines, max_turbines, interference_matrix, **kwargs\n",
        "):\n",
        "    model = pyo.ConcreteModel()\n",
        "\n",
        "    model.sites = pyo.Set(initialize=range(n_sites))\n",
        "    model.M = pyo.Param(model.sites, initialize=interference_matrix.sum())\n",
        "\n",
        "    model.turbine = pyo.Var(model.sites, domain=pyo.Binary, doc=\"x\")\n",
        "    model.wake = pyo.Var(model.sites, domain=pyo.NonNegativeReals, doc=\"l\")\n",
        "\n",
        "    @model.Objective(sense=pyo.maximize)\n",
        "    def objective(m):\n",
        "        return sum(production * m.turbine[i] - m.wake[i] for i in m.sites)\n",
        "\n",
        "    @model.Constraint()\n",
        "    def minimum_number_turbines(m):\n",
        "        return sum(m.turbine[i] for i in m.sites) >= min_turbines\n",
        "\n",
        "    @model.Constraint()\n",
        "    def maximum_number_turbines(m):\n",
        "        return sum(m.turbine[i] for i in m.sites) <= max_turbines\n",
        "\n",
        "    @model.Constraint(model.sites, model.sites)\n",
        "    def avoid_close_turbine_placement(m, i, j):\n",
        "        distance = np.linalg.norm(coords[i] - coords[j])\n",
        "        \n",
        "        if i != j and distance < min_distance:\n",
        "            return m.turbine[i] + m.turbine[j] <= 1\n",
        "        else:\n",
        "            return pyo.Constraint.Skip\n",
        "\n",
        "    @model.Constraint(model.sites)\n",
        "    def interference(m, i):\n",
        "        total_interference = sum(interference_matrix[i, j] * m.turbine[j] for j in m.sites if i != j)\n",
        "        activation = m.wake[i] + m.M[i] * (1 - m.turbine[i])\n",
        "        return total_interference <= activation\n",
        "\n",
        "    return model"
      ],
      "metadata": {
        "id": "30mG-lizJaGG"
      },
      "execution_count": 8,
      "outputs": []
    },
    {
      "cell_type": "markdown",
      "source": [
        "## Uncertainty\n",
        "The entries of interference matrix $I_{ij}$ are calculated using both the relative distance of sites $i$ and $j$, as well as how they are placed with respect to a specific wind realization. It is intuitive that if the wind has a different direction or a different speed, then the interference matrix $I$ will also be different."
      ],
      "metadata": {
        "id": "aGAG4lHkjggY"
      }
    },
    {
      "cell_type": "markdown",
      "metadata": {
        "id": "XZeN0TdW2qKm"
      },
      "source": [
        "## Problem data"
      ]
    },
    {
      "cell_type": "code",
      "source": [
        "instance, interference_matrices = generate_wind_farm_data()"
      ],
      "metadata": {
        "id": "zjYgjGSHi1PY"
      },
      "execution_count": 9,
      "outputs": []
    },
    {
      "cell_type": "markdown",
      "source": [
        "The function `generate_wind_farm_data()` generates both an instance of the placement problem importing all the parameters above as well as a collection of 45 different interference matrices corresponding to 45 different wind scenarios.\n",
        "\n",
        "The `instance` variable is a dictionary that contains the following key-value pairs:\n",
        "- `n_sites`: the number of sites\n",
        "- `coords`: the coordinates for each site\n",
        "- `production`: the wind energy production for turbine\n",
        "- `min_distance`: the minimum distance between two sites\n",
        "- `min_turbines`: the minimum number of turbines to be placed\n",
        "- `max_turbines`: the maximum number of turbines to be placed.\n",
        "\n",
        "Each site is indexed, which can be used to access its coordinates (see figure below).\n",
        "\n",
        "A solution to the instance can be plotted using the `plot_wind_farm` function:"
      ],
      "metadata": {
        "id": "fezmG7Gci18r"
      }
    },
    {
      "cell_type": "code",
      "execution_count": 10,
      "metadata": {
        "id": "Htc-0VO4c_So",
        "colab": {
          "base_uri": "https://localhost:8080/",
          "height": 623
        },
        "outputId": "69251c12-5891-4868-982a-f04588439d6b"
      },
      "outputs": [
        {
          "output_type": "display_data",
          "data": {
            "text/plain": [
              "<Figure size 720x720 with 1 Axes>"
            ],
            "image/png": "[encoded data removed]"
          },
          "metadata": {
            "needs_background": "light"
          }
        }
      ],
      "source": [
        "plot_wind_farm(instance, solution=[1, 12, 20])"
      ]
    },
    {
      "cell_type": "markdown",
      "source": [
        "## Solver\n",
        "The wind farm optimization model is quite complex and `cbc` is unable to solve the MILP in a reasonable time. You should therefore use the `gurobi` solver:"
      ],
      "metadata": {
        "id": "688beCcUlk5z"
      }
    },
    {
      "cell_type": "code",
      "source": [
        "gurobi_solver = pyo.SolverFactory('gurobi')"
      ],
      "metadata": {
        "id": "SUIx1NealqHx"
      },
      "execution_count": 11,
      "outputs": []
    },
    {
      "cell_type": "markdown",
      "source": [
        "However, this is a \"free\" Gurobi version which only solves your model if it has less than 2000 variables and 2000 constraints. If you follow all steps correctly, it is possible to make a model that is small enough to be solved by Gurobi. If your model is too large, then the Gurobi solver will complain and you will need to make your model more compact."
      ],
      "metadata": {
        "id": "H4IQzUP-l1YJ"
      }
    },
    {
      "cell_type": "markdown",
      "metadata": {
        "id": "CvMAHVSXBXxG"
      },
      "source": [
        "## Questions part 2\n",
        "\n",
        "1. [5 pts] For the provided 45 wind scenarios, solve the determinsitic MILP using the corresponding interference matrix and calculate the corresponding wind energy production. Calculate the average wind energy production $E_\\mathrm{PI}$ over these 45 wind scenarios.\n",
        "\n",
        "*Consider using the provided plot function to visualize the optimal wind turbine placements in a few different scenarios and check that is not always identical!*\n",
        "\n",
        "2. [15 pts] Consider now a stochastic version of wind turbine placement problem which we will solve using the Sample Average Approximation (SAA) method. Write down the full mathematical model (i.e. the extensive form that the SAA method implicitly defines), then implement it in ```pyomo```, and solve it. Report the resulting optimal value, denoted by $E_\\mathrm{SAA}$, and plot the optimal turbine placement $x^*_\\mathrm{SAA}$.\n",
        "\n",
        "3. [10 pts] Compare the quantities $E_\\mathrm{PI}$ and $E_\\mathrm{SAA}$. Which one is higher? Explain why. Was this to be expected?"
      ]
    },
    {
      "cell_type": "markdown",
      "source": [
        "### Question 2.1\n"
      ],
      "metadata": {
        "id": "o6rMJ25gU-qU"
      }
    },
    {
      "cell_type": "markdown",
      "source": [
        "The wind productions for each interference matrix and the average are shown below."
      ],
      "metadata": {
        "id": "YVmI2QvM-GDM"
      }
    },
    {
      "cell_type": "code",
      "source": [
        "l = []\n",
        "for i in range(interference_matrices.shape[0]):\n",
        "  model = wind_farm_model(instance[\"n_sites\"], \n",
        "                          instance[\"coords\"],\n",
        "                          instance[\"production\"],\n",
        "                          instance[\"min_distance\"],\n",
        "                          instance[\"min_turbines\"],\n",
        "                          instance[\"max_turbines\"],\n",
        "                          interference_matrices[i])\n",
        "  gurobi_solver.solve(model)\n",
        "  print(f\"Wind production of interference matrix {i + 1} is {model.objective()}\")\n",
        "  l.append(model.objective())\n",
        "\n",
        "print(f\"Average wind product across all interference matrices: {np.mean(l)}\")\n"
      ],
      "metadata": {
        "id": "5fSuGb7kVAW7",
        "colab": {
          "base_uri": "https://localhost:8080/"
        },
        "outputId": "78786ea2-02b1-488f-c9bd-94594725c500"
      },
      "execution_count": 12,
      "outputs": [
        {
          "output_type": "stream",
          "name": "stdout",
          "text": [
            "Wind production of interference matrix 1 is 849.342623091932\n",
            "Wind production of interference matrix 2 is 400.8751928149802\n",
            "Wind production of interference matrix 3 is 536.4113207526127\n",
            "Wind production of interference matrix 4 is 703.0049259491975\n",
            "Wind production of interference matrix 5 is 900.0\n",
            "Wind production of interference matrix 6 is 900.0\n",
            "Wind production of interference matrix 7 is 692.7308735771892\n",
            "Wind production of interference matrix 8 is 685.7237242577443\n",
            "Wind production of interference matrix 9 is 417.3065277228891\n",
            "Wind production of interference matrix 10 is 900.0\n",
            "Wind production of interference matrix 11 is 900.0\n",
            "Wind production of interference matrix 12 is 451.4684020188357\n",
            "Wind production of interference matrix 13 is 356.2732392263625\n",
            "Wind production of interference matrix 14 is 900.0\n",
            "Wind production of interference matrix 15 is 900.0\n",
            "Wind production of interference matrix 16 is 900.0\n",
            "Wind production of interference matrix 17 is 716.6533102494399\n",
            "Wind production of interference matrix 18 is 900.0\n",
            "Wind production of interference matrix 19 is 453.6465933546731\n",
            "Wind production of interference matrix 20 is 412.484205483608\n",
            "Wind production of interference matrix 21 is 438.97035467856233\n",
            "Wind production of interference matrix 22 is 900.0\n",
            "Wind production of interference matrix 23 is 641.4853463325671\n",
            "Wind production of interference matrix 24 is 900.0\n",
            "Wind production of interference matrix 25 is 491.30021217708907\n",
            "Wind production of interference matrix 26 is 899.7021398293904\n",
            "Wind production of interference matrix 27 is 699.3383803348743\n",
            "Wind production of interference matrix 28 is 900.0\n",
            "Wind production of interference matrix 29 is 900.0\n",
            "Wind production of interference matrix 30 is 543.5927137332794\n",
            "Wind production of interference matrix 31 is 440.7482676522348\n",
            "Wind production of interference matrix 32 is 900.0\n",
            "Wind production of interference matrix 33 is 419.711203705702\n",
            "Wind production of interference matrix 34 is 477.3659918157392\n",
            "Wind production of interference matrix 35 is 527.9881661683529\n",
            "Wind production of interference matrix 36 is 474.54419582572956\n",
            "Wind production of interference matrix 37 is 538.8030415967717\n",
            "Wind production of interference matrix 38 is 900.0\n",
            "Wind production of interference matrix 39 is 681.4630274926005\n",
            "Wind production of interference matrix 40 is 481.6597980924059\n",
            "Wind production of interference matrix 41 is 900.0\n",
            "Wind production of interference matrix 42 is 900.0\n",
            "Wind production of interference matrix 43 is 900.0\n",
            "Wind production of interference matrix 44 is 895.0401865232482\n",
            "Wind production of interference matrix 45 is 654.737888200169\n",
            "Average wind product across all interference matrices: 695.1638189479596\n"
          ]
        }
      ]
    },
    {
      "cell_type": "markdown",
      "metadata": {
        "id": "FnnWx1TFsm2A"
      },
      "source": [
        "### Question 2.2"
      ]
    },
    {
      "cell_type": "markdown",
      "source": [
        "Using SAA, we can convert the initial problem into a two-stage problem then extend it as \n",
        "\n",
        "$$\n",
        "\\begin{array}{llrl}\n",
        "\\max & \\sum_{i \\in V}(P x_i- \\frac{1}{45} \\sum_{s=1}^{45} \\ell_{i}^{s}) \\\\\n",
        "\\, \\mbox{ s.t.} & \\sum_{i \\in V} x_i \\geq \\nu,\\\\\n",
        "& \\sum_{i \\in V} x_i \\leq \\mu,\\\\\n",
        "& x_i + x_j \\leq 1, & \\forall i, j : d(i,j) \\leq \\delta, \\\\ \n",
        "& \\sum_{j \\in V, i \\neq j,} I_{ij}^{s} x_j \\leq \\ell_i^{s} + M_i(1-x_i),  & \\forall i \\in V \\; \\forall s \\in \\{1,2,\\dots,45\\} ,\\\\\n",
        "& x_i \\in \\{ 0, 1 \\}, & \\forall i \\in V,\\\\\n",
        "& \\ell_i \\geq 0, & \\forall i \\in V.\\\\\n",
        "\\end{array}\n",
        "$$\n",
        "\n"
      ],
      "metadata": {
        "id": "NTCuDuqNnKtk"
      }
    },
    {
      "cell_type": "code",
      "source": [
        "def wind_farm_model_saa(\n",
        "    n_sites, coords, production, min_distance, min_turbines, max_turbines, \n",
        "    interference_matrices, **kwargs\n",
        "):\n",
        "    model = pyo.ConcreteModel()\n",
        "\n",
        "    N = len(interference_matrices)\n",
        "\n",
        "    model.sites = pyo.Set(initialize=range(n_sites))\n",
        "    model.indices = pyo.Set(initialize=range(N))\n",
        "\n",
        "    model.M = pyo.Param(model.sites, model.indices,\n",
        "                        initialize=interference_matrices.sum())\n",
        "\n",
        "    model.turbine = pyo.Var(model.sites, domain=pyo.Binary, doc=\"x\")\n",
        "    model.wake = pyo.Var(model.sites, model.indices, \n",
        "                         domain=pyo.NonNegativeReals, doc=\"l\")\n",
        "    \n",
        "\n",
        "    @model.Expression()\n",
        "    def first_stage_obj(model):\n",
        "      return sum(production * model.turbine[i] for i in model.sites)\n",
        "\n",
        "    @model.Expression()\n",
        "    def second_stage_obj(model):\n",
        "      return -1/45 * sum(sum(model.wake[i, s] for s in model.indices) for i in model.sites)\n",
        "\n",
        "    @model.Objective(sense=pyo.maximize)\n",
        "    def objective(model):\n",
        "        return model.first_stage_obj + model.second_stage_obj\n",
        "\n",
        "    @model.Constraint()\n",
        "    def minimum_number_turbines(m):\n",
        "        return sum(m.turbine[i] for i in m.sites) >= min_turbines\n",
        "\n",
        "    @model.Constraint()\n",
        "    def maximum_number_turbines(m):\n",
        "        return sum(m.turbine[i] for i in m.sites) <= max_turbines\n",
        "\n",
        "    @model.Constraint(model.sites, model.sites)\n",
        "    def avoid_close_turbine_placement(m, i, j):\n",
        "        distance = np.linalg.norm(coords[i] - coords[j])\n",
        "        \n",
        "        if i != j and distance < min_distance:\n",
        "            return m.turbine[i] + m.turbine[j] <= 1\n",
        "        else:\n",
        "            return pyo.Constraint.Skip\n",
        "\n",
        "    @model.Constraint(model.sites, model.indices)\n",
        "    def interference(m, i, s):\n",
        "        total_interference = sum(interference_matrices[s, i, j] * m.turbine[j] for j in m.sites if i != j)\n",
        "        activation = m.wake[i, s] + m.M[i, s] * (1 - m.turbine[i])\n",
        "        return total_interference <= activation\n",
        "\n",
        "    return model"
      ],
      "metadata": {
        "id": "2fa8srDOnK_t"
      },
      "execution_count": 27,
      "outputs": []
    },
    {
      "cell_type": "code",
      "source": [
        "saa_model = wind_farm_model_saa(instance[\"n_sites\"], \n",
        "                          instance[\"coords\"],\n",
        "                          instance[\"production\"],\n",
        "                          instance[\"min_distance\"],\n",
        "                          instance[\"min_turbines\"],\n",
        "                          instance[\"max_turbines\"],\n",
        "                          interference_matrices)\n",
        "gurobi_solver.solve(saa_model)"
      ],
      "metadata": {
        "id": "fWcLsaVDoneh",
        "outputId": "d3dc7c68-3cac-4026-d6de-6255b5a956b6",
        "colab": {
          "base_uri": "https://localhost:8080/"
        }
      },
      "execution_count": 28,
      "outputs": [
        {
          "output_type": "execute_result",
          "data": {
            "text/plain": [
              "{'Problem': [{'Name': 'x1657', 'Lower bound': 570.7524750970966, 'Upper bound': 570.7524750970966, 'Number of objectives': 1, 'Number of constraints': 1843, 'Number of variables': 1657, 'Number of binary variables': 36, 'Number of integer variables': 36, 'Number of continuous variables': 1621, 'Number of nonzeros': 21393, 'Sense': 'maximize'}], 'Solver': [{'Status': 'ok', 'Return code': '0', 'Message': 'Model was solved to optimality (subject to tolerances), and an optimal solution is available.', 'Termination condition': 'optimal', 'Termination message': 'Model was solved to optimality (subject to tolerances), and an optimal solution is available.', 'Wall time': '12.407145023345947', 'Error rc': 0, 'Time': 12.485573530197144}], 'Solution': [OrderedDict([('number of solutions', 0), ('number of solutions displayed', 0)])]}"
            ]
          },
          "metadata": {},
          "execution_count": 28
        }
      ]
    },
    {
      "cell_type": "code",
      "source": [
        "slst = [i for i in saa_model.turbine if saa_model.turbine[i]() == 1]\n",
        "plot_wind_farm(instance, slst)"
      ],
      "metadata": {
        "id": "5dqcxxZNQUoM",
        "outputId": "fb2d4626-f9d6-4e21-e424-e01e00f4b058",
        "colab": {
          "base_uri": "https://localhost:8080/",
          "height": 623
        }
      },
      "execution_count": 29,
      "outputs": [
        {
          "output_type": "display_data",
          "data": {
            "text/plain": [
              "<Figure size 720x720 with 1 Axes>"
            ],
            "image/png": "[encoded data removed]"
          },
          "metadata": {
            "needs_background": "light"
          }
        }
      ]
    },
    {
      "cell_type": "code",
      "source": [
        "print(f\"SAA Model production: {saa_model.objective()}\")"
      ],
      "metadata": {
        "id": "1vYQtHQ4Q13D",
        "outputId": "836cf9f5-7ae1-41c9-e32c-b24831eb41d5",
        "colab": {
          "base_uri": "https://localhost:8080/"
        }
      },
      "execution_count": 30,
      "outputs": [
        {
          "output_type": "stream",
          "name": "stdout",
          "text": [
            "SAA Model production: 570.7524750970967\n"
          ]
        }
      ]
    },
    {
      "cell_type": "markdown",
      "metadata": {
        "id": "G69BLJsSssdW"
      },
      "source": [
        "### Question 2.3"
      ]
    },
    {
      "cell_type": "markdown",
      "source": [
        "It can be seen that $E_{PI} > E_{SAA}$ because the number of samples that we take for the interference matrix is too small (45) compared to the dimension or the number of sites (36) thus runs the risk of overfitting."
      ],
      "metadata": {
        "id": "uP1UGtL7NrpB"
      }
    },
    {
      "cell_type": "markdown",
      "metadata": {
        "id": "sIEX1F-56JZk"
      },
      "source": [
        "# Part 3: Economic dispatch (30 points)\n",
        "The _economic dispatch (ED)_ problem is the short-term determination of the optimal production of energy to meet all energy demand. Let $V$ denote a set of nodes each of which is representing cities, industrial districts, or power generators or combinations of these. Each node $i \\in V$ **may** have:\n",
        "- a certain energy demand $d_i \\geq 0$; \n",
        "- a power generator whose energy production needs to be between $p_i^\\min$ and $p_i^{\\max}$ units of power. The cost of production one unit of power at node $i$ is given by a variable cost $c_i > 0$. \n",
        "\n",
        "Not all the nodes have both demand and generation, more specifically it is possible for a node to have only generation or only demand.\n",
        "\n",
        "The goal is to determine for each node $i \\in V$ the optimal production level $p_i$, such that the total energy demand is met, no production limits are exceeded, and the total energy production costs are minimized. We can formulate the problem as the following MILP:\n",
        "\n",
        "\\begin{align}\n",
        "\\begin{array}{llll}\n",
        "\\min        & \\sum_{i \\in V} c_i p_i\\\\\n",
        "\\mbox{s.t.} & \\sum_{i \\in V} p_i = \\sum_{i \\in V} d_i,\\\\\n",
        "& p_{i}^{\\min } \\leq p_{i} \\leq p_{i}^{\\max } & \\forall i \\in V.\n",
        "\\end{array}\n",
        "\\end{align}\n",
        "\n",
        "Now assume that we have built several off-shore wind turbines. These wind turbines combined together produce a random nonnegative amount of extra energy, denoted by $\\omega$.\n",
        "\n",
        "\\begin{align}\n",
        "\\begin{array}{llll}\n",
        "\\min        & \\sum_{i \\in V} c_i p_i\\\\\n",
        "\\mbox{s.t.} & \\omega + \\sum_{i \\in V} p_i = \\sum_{i \\in V} d_i,\\\\\n",
        "& p_{i}^{\\min } \\leq p_{i} \\leq p_{i}^{\\max } & \\forall i \\in V.\n",
        "\\end{array}\n",
        "\\end{align}\n",
        "\n",
        "Because of stochastic fluctuations in wind power generation, the ED problem is best modeled as a stochastic optimization problem. The intermittency of wind generation makes it almost impossible to perfectly balance supply and demand, but in practice there is some room for error. We denote by\n",
        "- $\\Delta \\geq 0$ the tolerance of the absolute power difference between supply and demand;\n",
        "- $\\varepsilon \\in [0,1]$ is the risk level we are willing to accept for the supply to deviate from the demand more than $\\Delta$;\n",
        "- $\\omega \\in \\mathbb{R}_{\\geq 0}$ the nonnegative random variable describing the total power production of off-shore wind turbines.\n",
        "\n",
        "Instead of requiring that the supply and demand are matched perfectly, we require that the absolute difference remains below power threshold $\\Delta$ using the following chance constraint:\n",
        "\\begin{align}\n",
        "  \\mathbb{P} \\Big ( \\Big | \\omega + \\sum_{i \\in V } p_i  - \\sum_{i \\in V} d_i \\Big | \\leq \\Delta \\Big) \\geq 1 - \\varepsilon\n",
        "\\end{align}\n",
        "\n",
        "Breaking this up (hence \"relaxing\" it) into two individual chance constraints, this leads to the following optimization problem with chance constraints:\n",
        "\n",
        "\\begin{align}\n",
        "\\begin{array}{llll}\n",
        "\\min        & \\sum_{i \\in V } c_i(p_i)\\\\\n",
        "\\mbox{s.t.} & \\mathbb{P}(\\omega + \\sum_{i \\in V } p_i  - \\sum_{i \\in V} d_i \\leq \\Delta) \\geq 1 - ɛ\\\\\n",
        "& \\mathbb{P}(\\omega + \\sum_{i \\in V } p_i  - \\sum_{i \\in V} d_i \\geq -\\Delta) \\geq 1 - ɛ\\\\\n",
        "& p_{i}^{\\min } \\leq p_{i} \\leq p_{i}^{\\max } & \\forall i \\in V.\n",
        "\\end{array}\n",
        "\\end{align}\n",
        "\n",
        "The goal of this part of the assignment is to implement this chance-constrained model."
      ]
    },
    {
      "cell_type": "markdown",
      "metadata": {
        "id": "PHjwf2FL8zmd"
      },
      "source": [
        "### Data"
      ]
    },
    {
      "cell_type": "code",
      "execution_count": null,
      "metadata": {
        "id": "hckxenl66Uj3"
      },
      "outputs": [],
      "source": [
        "nodes, wind_production_samples = read_economic_dispatch_data()"
      ]
    },
    {
      "cell_type": "markdown",
      "source": [
        "For the third part of the assignment, we have a `nodes` dictionary, containing for every $i \\in V$ information about $p_\\min$, $p_\\max$, $c_i$, $d_i$. Although not relevant for this assignment, there is a clear distinction in the data between nodes that only demand power, and nodes that only produce power."
      ],
      "metadata": {
        "id": "vzyuX8W-MAI0"
      }
    },
    {
      "cell_type": "code",
      "source": [
        "nodes[0]"
      ],
      "metadata": {
        "id": "GDYNe94Zv57C"
      },
      "execution_count": null,
      "outputs": []
    },
    {
      "cell_type": "markdown",
      "metadata": {
        "id": "R8Ai76gO6h-3"
      },
      "source": [
        "The wind production samples can be accessed through the `wind_production_samples` variable. It is a list of 500 equiprobable outcomes for the wind generation."
      ]
    },
    {
      "cell_type": "code",
      "execution_count": null,
      "metadata": {
        "id": "nqsaihd26dNJ"
      },
      "outputs": [],
      "source": [
        "wind_production_samples[4] # fifth outcome"
      ]
    },
    {
      "cell_type": "markdown",
      "metadata": {
        "id": "wrB0MWd2-ev9"
      },
      "source": [
        "## Questions for part 3"
      ]
    },
    {
      "cell_type": "markdown",
      "metadata": {
        "id": "_XmkcNFD6leA"
      },
      "source": [
        "We estimate the wind power production using historical data. You are given 500 outcomes of the total wind producton ```wind_production_samples```, all equiprobable (some outcomes are repeated, but you can treat them as different if you stick with the equal probability assumption).\n",
        "\n",
        "1. [10 pts] Rewrite the chance-constrained ED problem for a generic tolerance $\\Delta$ and risk level $\\varepsilon \\in [0,1]$ using the exact MILP reformulation. Write explicitly the mathematical MILP model and comment on it, explaining among other things the variables that you introduce.\n",
        "2. [10 pts] Implement the MILP in ```pyomo```. Solve the model for the provided instance and wind production outcomes, and report the optimal objective value you obtain for $\\varepsilon = 0.02$ and $\\Delta=1000$.\n",
        "3. [10 pts] Solve the same MILP varying the values first of $\\varepsilon \\in [0, 1]$ (for fixed $\\Delta=1000$) and then of $\\Delta \\in [0, 2000]$ (for fixed $\\varepsilon = 0.02$). \n",
        "    - Plot your results and analyze your findings. Interpret/comment these plots and explain what decisions are being made by the model. Note that for some $(\\varepsilon, \\Delta)$ values the model becomes infeasible. Emphasize this in the plot and comment on for which values the model is infeasible.\n",
        "    - Explain how you could analytically derive the optimal solution without solving the model."
      ]
    },
    {
      "cell_type": "markdown",
      "metadata": {
        "id": "OeDK7tqk4KTa"
      },
      "source": [
        "### Question 3.1"
      ]
    },
    {
      "cell_type": "markdown",
      "metadata": {
        "id": "hiDjgRsG5Aqa"
      },
      "source": []
    },
    {
      "cell_type": "markdown",
      "metadata": {
        "id": "mH_QGZv95OzG"
      },
      "source": [
        "### Question 3.2"
      ]
    },
    {
      "cell_type": "code",
      "source": [
        "def economic_dispatch(nodes, samples, eps, Delta):\n",
        "    pass"
      ],
      "metadata": {
        "id": "vhuxGNRoMp4d"
      },
      "execution_count": null,
      "outputs": []
    },
    {
      "cell_type": "code",
      "source": [
        "# model = economic_dispatch(nodes, wind_production_samples, eps=0.02, Delta=1000)\n",
        "# result = gurobi_solver.solve(model)\n",
        "# model.objective()"
      ],
      "metadata": {
        "id": "S2-i2a3VMuAg"
      },
      "execution_count": null,
      "outputs": []
    },
    {
      "cell_type": "markdown",
      "metadata": {
        "id": "5-MhkSrT5DK7"
      },
      "source": [
        "### Question 3.3"
      ]
    },
    {
      "cell_type": "markdown",
      "source": [],
      "metadata": {
        "id": "Fk30c0fJNnHi"
      }
    },
    {
      "cell_type": "code",
      "source": [],
      "metadata": {
        "id": "LkeExpXjNBD5"
      },
      "execution_count": null,
      "outputs": []
    }
  ],
  "metadata": {
    "colab": {
      "provenance": [],
      "include_colab_link": true
    },
    "kernelspec": {
      "display_name": "Python 3 (ipykernel)",
      "language": "python",
      "name": "python3"
    },
    "language_info": {
      "codemirror_mode": {
        "name": "ipython",
        "version": 3
      },
      "file_extension": ".py",
      "mimetype": "text/x-python",
      "name": "python",
      "nbconvert_exporter": "python",
      "pygments_lexer": "ipython3",
      "version": "3.10.6"
    },
    "varInspector": {
      "cols": {
        "lenName": 16,
        "lenType": 16,
        "lenVar": 40
      },
      "kernels_config": {
        "python": {
          "delete_cmd_postfix": "",
          "delete_cmd_prefix": "del ",
          "library": "var_list.py",
          "varRefreshCmd": "print(var_dic_list())"
        },
        "r": {
          "delete_cmd_postfix": ") ",
          "delete_cmd_prefix": "rm(",
          "library": "var_list.r",
          "varRefreshCmd": "cat(var_dic_list()) "
        }
      },
      "types_to_exclude": [
        "module",
        "function",
        "builtin_function_or_method",
        "instance",
        "_Feature"
      ],
      "window_display": false
    }
  },
  "nbformat": 4,
  "nbformat_minor": 0
}