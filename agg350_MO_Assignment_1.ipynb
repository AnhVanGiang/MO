{
  "nbformat": 4,
  "nbformat_minor": 0,
  "metadata": {
    "colab": {
      "provenance": [],
      "include_colab_link": true
    },
    "kernelspec": {
      "name": "python3",
      "display_name": "Python 3"
    },
    "language_info": {
      "name": "python"
    }
  },
  "cells": [
    {
      "cell_type": "markdown",
      "metadata": {
        "id": "view-in-github",
        "colab_type": "text"
      },
      "source": [
        "<a href=\"https://colab.research.google.com/github/AnhVanGiang/MO/blob/main/agg350_MO_Assignment_1.ipynb\" target=\"_parent\"><img src=\"https://colab.research.google.com/assets/colab-badge.svg\" alt=\"Open In Colab\"/></a>"
      ]
    },
    {
      "cell_type": "markdown",
      "source": [
        "# Mathematical Optimization Assignment 1"
      ],
      "metadata": {
        "id": "1f3M0-aoSo3v"
      }
    },
    {
      "cell_type": "markdown",
      "source": [
        "## Preliminaries"
      ],
      "metadata": {
        "id": "dMHSyJvBT_e5"
      }
    },
    {
      "cell_type": "markdown",
      "source": [
        "### Install dependencies for Google Colab"
      ],
      "metadata": {
        "id": "zpqOK44Az7Rf"
      }
    },
    {
      "cell_type": "code",
      "source": [
        "import httpimport\n",
        "\n",
        "with httpimport.github_repo('alessandrozocca', 'MO2022', 'helpers'):\n",
        "    from helpers import installer    \n",
        "\n",
        "    if installer.on_colab():\n",
        "        installer.install_pyomo()\n",
        "        installer.install_cbc()\n",
        "\n",
        "    from helpers.assignment1 import generate_instance, solve_model, plot_solution"
      ],
      "metadata": {
        "colab": {
          "base_uri": "https://localhost:8080/"
        },
        "id": "VWo3HkKZhrp4",
        "outputId": "85366ff4-9d2e-4b10-9bf8-3401a68f2ff3"
      },
      "execution_count": 1,
      "outputs": [
        {
          "output_type": "stream",
          "name": "stdout",
          "text": [
            "pyomo was previously installed\n",
            "cbc was previously installed\n"
          ]
        }
      ]
    },
    {
      "cell_type": "markdown",
      "source": [
        "### Import"
      ],
      "metadata": {
        "id": "AzPuB64qUKI7"
      }
    },
    {
      "cell_type": "code",
      "source": [
        "import numpy as np\n",
        "import pandas as pd\n",
        "import networkx as nx \n",
        "import matplotlib.pyplot as plt \n",
        "import pyomo.environ as pyo\n",
        "from IPython.display import Markdown"
      ],
      "metadata": {
        "id": "RRHGzEuPRtel"
      },
      "execution_count": 2,
      "outputs": []
    },
    {
      "cell_type": "markdown",
      "source": [
        "### Create solver"
      ],
      "metadata": {
        "id": "uD_GWJm9Ucw1"
      }
    },
    {
      "cell_type": "code",
      "source": [
        "solver = pyo.SolverFactory(\"cbc\")"
      ],
      "metadata": {
        "id": "wBv9pCwFaisr"
      },
      "execution_count": 3,
      "outputs": []
    },
    {
      "cell_type": "markdown",
      "source": [
        "## Problem description"
      ],
      "metadata": {
        "id": "-800H_nMjAw0"
      }
    },
    {
      "cell_type": "markdown",
      "source": [
        "A new online-only supermarket franchise, AZ, is trying to expand its market share by offering extremely efficient groceries deliveries to its customers. To do so, the R&D team need to figure out how to best create the routes for the refrigerated trucks. The strategy that AZ adopted is to have many small depots distributed across the city rather than having only a big warehouse. This means that the same truck might leave not entirely full and along the way possibly get new products from one of the small depots. Can you help the R&D team at AZ to figure out how plan these routes as efficiently as possible? You should know that AZ as a company deeply cares about sustainability. This means that instead of myopically minimizing the travelled distance of its trucks, they want to account for the fuel consumption of the trucks which also depends on their load. In the 2nd part of the problem, can you help the R&D team at AZ to figure out how to make the truck routes efficient and green at the same time?"
      ],
      "metadata": {
        "id": "ZsNXqcJAWo4G"
      }
    },
    {
      "cell_type": "markdown",
      "source": [
        "\n",
        "To summarize, the problem to be solved is the following:\n",
        "- Find a single route visiting all nodes, given a fixed start and finish location.\n",
        "- Each node has a certain demand of a single product to be fulfilled.\n",
        "    - Delivery:   Nodes having a negative demand.\n",
        "    - Pickup:     Nodes having a positive demand.\n",
        "    - Service:    Nodes having a zero demand.\n",
        "- Each node is only available to be visited after a given time."
      ],
      "metadata": {
        "id": "DrwVEuBfMRMn"
      }
    },
    {
      "cell_type": "markdown",
      "source": [
        "A problem instance is defined by a list of nodes. Each node has a specific demand, earliest arrival time and xy-coordinate. Instances of varying sizes can be randomly created, using the provided function `generate_instance`. Assume that the node on the first line is the fixed starting location and the node on the last line is the fixed finish location. For example:"
      ],
      "metadata": {
        "id": "nDoPNAZLcBmz"
      }
    },
    {
      "cell_type": "code",
      "source": [
        "instance = generate_instance(n_nodes=5, seed=0)\n",
        "instance"
      ],
      "metadata": {
        "colab": {
          "base_uri": "https://localhost:8080/",
          "height": 206
        },
        "id": "rP0cTLyFl_2h",
        "outputId": "501b4217-824c-4d4b-8435-78059b3e6e49"
      },
      "execution_count": 4,
      "outputs": [
        {
          "output_type": "execute_result",
          "data": {
            "text/plain": [
              "   demand  earliest_arrival     coord\n",
              "1       0                 0  (47, 50)\n",
              "2     -10                16  (55, 53)\n",
              "3       9                25  (25, 56)\n",
              "4       4                 0  (52, 67)\n",
              "5      -3                 0  (39, 76)"
            ],
            "text/html": [
              "\n",
              "  <div id=\"df-cb117ba5-ad96-434a-804a-b57a2a27a52f\">\n",
              "    <div class=\"colab-df-container\">\n",
              "      <div>\n",
              "<style scoped>\n",
              "    .dataframe tbody tr th:only-of-type {\n",
              "        vertical-align: middle;\n",
              "    }\n",
              "\n",
              "    .dataframe tbody tr th {\n",
              "        vertical-align: top;\n",
              "    }\n",
              "\n",
              "    .dataframe thead th {\n",
              "        text-align: right;\n",
              "    }\n",
              "</style>\n",
              "<table border=\"1\" class=\"dataframe\">\n",
              "  <thead>\n",
              "    <tr style=\"text-align: right;\">\n",
              "      <th></th>\n",
              "      <th>demand</th>\n",
              "      <th>earliest_arrival</th>\n",
              "      <th>coord</th>\n",
              "    </tr>\n",
              "  </thead>\n",
              "  <tbody>\n",
              "    <tr>\n",
              "      <th>1</th>\n",
              "      <td>0</td>\n",
              "      <td>0</td>\n",
              "      <td>(47, 50)</td>\n",
              "    </tr>\n",
              "    <tr>\n",
              "      <th>2</th>\n",
              "      <td>-10</td>\n",
              "      <td>16</td>\n",
              "      <td>(55, 53)</td>\n",
              "    </tr>\n",
              "    <tr>\n",
              "      <th>3</th>\n",
              "      <td>9</td>\n",
              "      <td>25</td>\n",
              "      <td>(25, 56)</td>\n",
              "    </tr>\n",
              "    <tr>\n",
              "      <th>4</th>\n",
              "      <td>4</td>\n",
              "      <td>0</td>\n",
              "      <td>(52, 67)</td>\n",
              "    </tr>\n",
              "    <tr>\n",
              "      <th>5</th>\n",
              "      <td>-3</td>\n",
              "      <td>0</td>\n",
              "      <td>(39, 76)</td>\n",
              "    </tr>\n",
              "  </tbody>\n",
              "</table>\n",
              "</div>\n",
              "      <button class=\"colab-df-convert\" onclick=\"convertToInteractive('df-cb117ba5-ad96-434a-804a-b57a2a27a52f')\"\n",
              "              title=\"Convert this dataframe to an interactive table.\"\n",
              "              style=\"display:none;\">\n",
              "        \n",
              "  <svg xmlns=\"http://www.w3.org/2000/svg\" height=\"24px\"viewBox=\"0 0 24 24\"\n",
              "       width=\"24px\">\n",
              "    <path d=\"M0 0h24v24H0V0z\" fill=\"none\"/>\n",
              "    <path d=\"M18.56 5.44l.94 2.06.94-2.06 2.06-.94-2.06-.94-.94-2.06-.94 2.06-2.06.94zm-11 1L8.5 8.5l.94-2.06 2.06-.94-2.06-.94L8.5 2.5l-.94 2.06-2.06.94zm10 10l.94 2.06.94-2.06 2.06-.94-2.06-.94-.94-2.06-.94 2.06-2.06.94z\"/><path d=\"M17.41 7.96l-1.37-1.37c-.4-.4-.92-.59-1.43-.59-.52 0-1.04.2-1.43.59L10.3 9.45l-7.72 7.72c-.78.78-.78 2.05 0 2.83L4 21.41c.39.39.9.59 1.41.59.51 0 1.02-.2 1.41-.59l7.78-7.78 2.81-2.81c.8-.78.8-2.07 0-2.86zM5.41 20L4 18.59l7.72-7.72 1.47 1.35L5.41 20z\"/>\n",
              "  </svg>\n",
              "      </button>\n",
              "      \n",
              "  <style>\n",
              "    .colab-df-container {\n",
              "      display:flex;\n",
              "      flex-wrap:wrap;\n",
              "      gap: 12px;\n",
              "    }\n",
              "\n",
              "    .colab-df-convert {\n",
              "      background-color: #E8F0FE;\n",
              "      border: none;\n",
              "      border-radius: 50%;\n",
              "      cursor: pointer;\n",
              "      display: none;\n",
              "      fill: #1967D2;\n",
              "      height: 32px;\n",
              "      padding: 0 0 0 0;\n",
              "      width: 32px;\n",
              "    }\n",
              "\n",
              "    .colab-df-convert:hover {\n",
              "      background-color: #E2EBFA;\n",
              "      box-shadow: 0px 1px 2px rgba(60, 64, 67, 0.3), 0px 1px 3px 1px rgba(60, 64, 67, 0.15);\n",
              "      fill: #174EA6;\n",
              "    }\n",
              "\n",
              "    [theme=dark] .colab-df-convert {\n",
              "      background-color: #3B4455;\n",
              "      fill: #D2E3FC;\n",
              "    }\n",
              "\n",
              "    [theme=dark] .colab-df-convert:hover {\n",
              "      background-color: #434B5C;\n",
              "      box-shadow: 0px 1px 3px 1px rgba(0, 0, 0, 0.15);\n",
              "      filter: drop-shadow(0px 1px 2px rgba(0, 0, 0, 0.3));\n",
              "      fill: #FFFFFF;\n",
              "    }\n",
              "  </style>\n",
              "\n",
              "      <script>\n",
              "        const buttonEl =\n",
              "          document.querySelector('#df-cb117ba5-ad96-434a-804a-b57a2a27a52f button.colab-df-convert');\n",
              "        buttonEl.style.display =\n",
              "          google.colab.kernel.accessAllowed ? 'block' : 'none';\n",
              "\n",
              "        async function convertToInteractive(key) {\n",
              "          const element = document.querySelector('#df-cb117ba5-ad96-434a-804a-b57a2a27a52f');\n",
              "          const dataTable =\n",
              "            await google.colab.kernel.invokeFunction('convertToInteractive',\n",
              "                                                     [key], {});\n",
              "          if (!dataTable) return;\n",
              "\n",
              "          const docLinkHtml = 'Like what you see? Visit the ' +\n",
              "            '<a target=\"_blank\" href=https://colab.research.google.com/notebooks/data_table.ipynb>data table notebook</a>'\n",
              "            + ' to learn more about interactive tables.';\n",
              "          element.innerHTML = '';\n",
              "          dataTable['output_type'] = 'display_data';\n",
              "          await google.colab.output.renderOutput(dataTable, element);\n",
              "          const docLink = document.createElement('div');\n",
              "          docLink.innerHTML = docLinkHtml;\n",
              "          element.appendChild(docLink);\n",
              "        }\n",
              "      </script>\n",
              "    </div>\n",
              "  </div>\n",
              "  "
            ]
          },
          "metadata": {},
          "execution_count": 4
        }
      ]
    },
    {
      "cell_type": "markdown",
      "source": [
        "You can assume the following functions to hold:\n",
        "\n",
        "\\begin{align}\n",
        "\\operatorname{travel\\_distance}(a,\\ b) &= ||a - b||_2 &\\text{(in kilometers, given cartesian coordinates $a$ and $b$)} \\\\\n",
        "\\operatorname{travel\\_time}(distance) &= 1.2 \\cdot distance + 1 &\\text{(in minutes, given a travel $distance$ in kilometers)}\\\\\n",
        "\\operatorname{fuel\\_usage}(time,\\ load) &= time \\cdot \\Big( 0.02 \\cdot load + 0.3 \\Big) &\\text{(in liters, given a travel $time$ in minutes and $load$ in $\\times 10^3$ kg)}\n",
        "\\end{align}\n",
        "\n",
        "Their implementations are given below."
      ],
      "metadata": {
        "id": "jtRIFo_J1PVs"
      }
    },
    {
      "cell_type": "code",
      "source": [
        "def compute_travel_distance(a, b):\n",
        "    \"\"\" Compute the (Euclidean) distance in kilometers,\n",
        "        between two given coordinates [a] and [b] \"\"\"\n",
        "    return np.linalg.norm(np.subtract(a, b))\n",
        "\n",
        "def compute_travel_time(distance):\n",
        "    \"\"\" Compute the travel time in minutes,\n",
        "        given a certain [distance] in kilometers\"\"\"\n",
        "    return 1.2 * distance + 1\n",
        "\n",
        "def compute_fuel_usage(time, load):\n",
        "    \"\"\" Compute the fuel usage in liters,\n",
        "        given a certain traveling [time] in minutes\n",
        "        and a certain [load] in x10^3 kg\"\"\"\n",
        "    return time * (0.02 * load + 0.3)\n",
        "\n",
        "def create_travel_times_matrix(instance):\n",
        "    \"\"\" Create a dataframe containing all travel times in an [instance] represented in matrix form \"\"\"\n",
        "    return pd.DataFrame({i: {j: compute_travel_time(compute_travel_distance(instance['coord'][i], instance['coord'][j])) for j in instance.index} for i in instance.index})"
      ],
      "metadata": {
        "id": "Tj25seJK6WMQ"
      },
      "execution_count": 5,
      "outputs": []
    },
    {
      "cell_type": "markdown",
      "source": [
        "## MILP Formulation"
      ],
      "metadata": {
        "id": "BTTNrqVuUmHG"
      }
    },
    {
      "cell_type": "markdown",
      "source": [
        "Let:\n",
        "\n",
        "- $N$ be the set of all nodes to be visited by the vehicle.\n",
        "- $s$ and $t$ respectively be the fixed source and target nodes.\n",
        "- $d$ be an array where each element $d_i$ denotes the demand at node $i$.\n",
        "- $r$ be an array where each element $r_i$ denotes the earliest allowed arrival time at node $i$.\n",
        "- $T$ be a matrix where each element $T_{i, j}$ denotes the required travel time from node $i$ to $j$.\n",
        "\n",
        "Then this problem can be formulated as a MILP:\n",
        "\n",
        ">\\begin{array}{lrclll}\n",
        " \\min & \\sum\\limits_{i \\in N} \\sum\\limits_{j \\in N} {x_{i, j}} \\cdot T_{i, j} &&&& \\scriptstyle\\text{(Minimize the total travel time over all used edges)} \\\\\n",
        " \\mbox{s.t.} & \\sum\\limits_{j \\in N \\setminus \\{i\\}} x_{i, j} & = & 1 & \\forall i \\in N \\setminus \\{t\\} & \\scriptstyle\\text{(Every non-target node should have exactly one outgoing edge)}\\\\\n",
        " & \\sum\\limits_{i \\in N \\setminus \\{j\\}} x_{i, j} & = & 1 & \\forall j \\in N \\setminus \\{s\\} & \\scriptstyle\\text{(Every non-starting node should have exactly one incoming edge)}\\\\\\\\ & \\tau_i + T_{i, j} & \\leq & \\tau_j + (1 - x_{i, j})\\cdot M_{arrival\\_time} & \\forall (i, j) \\in N \\times N & \\scriptstyle\\text{(You do not arrive at a node before the arrival time at the previous node plus the travel time from there)}\\\\\n",
        " & r_i & \\leq & \\tau_i & \\forall i \\in N & \\scriptstyle\\text{(You should never arrive before the earliest pickup/delivery time at a node)}\\\\\\\\\n",
        " & \\ell_s & = & d_s && \\scriptstyle\\text{(⋆)} \\\\\n",
        " & \\ell_i + d_j & \\leq& \\ell_j + (1 - x_{i, j})\\cdot M_{load} & \\forall (i, j) \\in N \\times N & \\scriptstyle\\text{(⋆)}\\\\\n",
        " & \\ell_i + d_j & \\geq& \\ell_j - (1 - x_{i, j})\\cdot M_{load} & \\forall (i, j) \\in N \\times N & \\scriptstyle\\text{(⋆)}\\\\\\\\\n",
        " & \\tau_i & \\geq & 0 & \\forall i \\in N & \\scriptstyle\\text{(Variable representing the time when arriving at the corresponding node)}\\\\\n",
        " & \\ell_i & \\geq & 0 & \\forall i \\in N & \\scriptstyle\\text{(⋆)}\\\\\n",
        " & x_{i, j} & \\in & \\mathbb{B} & \\forall (i, j) \\in N \\times N & \\scriptstyle\\text{(Binary variable with value true iff the corresponding edge is part of the chosen route)} \\\\\n",
        "\\end{array}\n",
        "\n",
        "For which a pyomo implementation is given below."
      ],
      "metadata": {
        "id": "TG9pgum9SlHi"
      }
    },
    {
      "cell_type": "code",
      "source": [
        "def make_base_model(demands, earliest_arrivals, travel_times):\n",
        "    model = pyo.ConcreteModel()\n",
        "\n",
        "    # Parameters\n",
        "    model.n_nodes = len(demands)\n",
        "\n",
        "    # Big-M values\n",
        "    model.M_load = demands.max() * model.n_nodes + 1\n",
        "    model.M_arrival_time = travel_times.max().max() * model.n_nodes + 1\n",
        "\n",
        "    # Sets\n",
        "    model.nodes = pyo.RangeSet(model.n_nodes)\n",
        "\n",
        "    # Variables\n",
        "    model.arc = pyo.Var(model.nodes, model.nodes, domain=pyo.Binary, initialize=0)\n",
        "    model.node_load = pyo.Var(model.nodes, domain=pyo.NonNegativeReals, initialize=0)\n",
        "    \n",
        "    model.node_arrival = pyo.Var(model.nodes, domain=pyo.NonNegativeReals, initialize=0)\n",
        "\n",
        "    # Expressions \n",
        "    @model.Expression()\n",
        "    def total_travel_time(m):\n",
        "        return sum(m.arc[i, j] * travel_times[i][j] for i in m.nodes for j in m.nodes)\n",
        "\n",
        "    # Objectives\n",
        "    # (Note that we do not define any objective here yet, in order to be\n",
        "    #  able to choose between different expressions to act as objective later)\n",
        "\n",
        "    # Constraints\n",
        "    @model.Constraint(model.nodes - {model.n_nodes}) # All nodes except target node\n",
        "    def one_outgoing(m, i):\n",
        "        return sum(m.arc[i, j] for j in m.nodes if i != j) == 1\n",
        "\n",
        "    @model.Constraint(model.nodes - {1}) # All nodes except source node\n",
        "    def one_incoming(m, j):\n",
        "        return sum(m.arc[i, j] for i in m.nodes if i != j) == 1\n",
        "\n",
        "    @model.Constraint(model.nodes, model.nodes)\n",
        "    def node_arrivals(m, i, j):\n",
        "        return m.node_arrival[i] + travel_times[i][j] <= m.node_arrival[j] + m.M_arrival_time * (1 - m.arc[i, j])\n",
        "\n",
        "    @model.Constraint(model.nodes)\n",
        "    def time_windows_open(m, i):\n",
        "        return earliest_arrivals[i] <= m.node_arrival[i]\n",
        "\n",
        "    @model.Constraint()\n",
        "    def start_load(m):\n",
        "        return m.node_load[1] == demands[1]\n",
        "\n",
        "    @model.Constraint(model.nodes, model.nodes)\n",
        "    def node_loads_upper(m, i, j):\n",
        "        return m.node_load[i] + demands[j] <= m.node_load[j] + m.M_load * (1 - m.arc[i, j])\n",
        "    \n",
        "    @model.Constraint(model.nodes, model.nodes)\n",
        "    def node_loads_lower(m, i, j):\n",
        "        return m.node_load[i] + demands[j] >= m.node_load[j] - m.M_load * (1 - m.arc[i, j])\n",
        "\n",
        "    return model"
      ],
      "metadata": {
        "id": "opN5cxY5Q_Cm"
      },
      "execution_count": 6,
      "outputs": []
    },
    {
      "cell_type": "markdown",
      "source": [
        "You can use all provided helper functions, including:\n",
        "- `generate_instance(n_nodes, seed)`\n",
        "- `solve_model(solver, model)`\n",
        "- `plot_solution(coords, model)`\n",
        "\n",
        "Run `?<function_name>` to inspect a function's signature and documentation or inspect the full implementations [here](https://raw.githubusercontent.com/alessandrozocca/MO2022/main/helpers/assignment1.py). For example:"
      ],
      "metadata": {
        "id": "LQ3IoRQdeNXj"
      }
    },
    {
      "cell_type": "code",
      "source": [
        "travel_times = create_travel_times_matrix(instance)\n",
        "\n",
        "display(Markdown(\"## Example instance\"))\n",
        "model = make_base_model(instance[\"demand\"], instance[\"earliest_arrival\"], travel_times)\n",
        "# Set model objective here, using an earlier defined expression\n",
        "model.obj = pyo.Objective(expr=model.total_travel_time)\n",
        "solve_model(solver, model)\n",
        "print(\"Total travel time: %.2f\" % model.total_travel_time())\n",
        "\n",
        "plot_solution(instance[\"coord\"], model)"
      ],
      "metadata": {
        "colab": {
          "base_uri": "https://localhost:8080/",
          "height": 487
        },
        "id": "tNlRYPpukB_2",
        "outputId": "1b5c603e-7981-45b8-de0c-751f829d8f7a"
      },
      "execution_count": 7,
      "outputs": [
        {
          "output_type": "display_data",
          "data": {
            "text/plain": [
              "<IPython.core.display.Markdown object>"
            ],
            "text/markdown": "## Example instance"
          },
          "metadata": {}
        },
        {
          "output_type": "stream",
          "name": "stdout",
          "text": [
            "Optimal solution found in 0.19s\n",
            "Total travel time: 117.15\n"
          ]
        },
        {
          "output_type": "display_data",
          "data": {
            "text/plain": [
              "<Figure size 1728x432 with 2 Axes>"
            ],
            "image/png": "[encoded data removed]"
          },
          "metadata": {
            "needs_background": "light"
          }
        }
      ]
    },
    {
      "cell_type": "markdown",
      "source": [
        "## Questions"
      ],
      "metadata": {
        "id": "A5FiIJqAjInG"
      }
    },
    {
      "cell_type": "markdown",
      "source": [
        "Your task is to answer the following questions regarding this assignment:\n",
        "- 1a) [10pt] Some lines in the provided MILP formulation have not been explained. Give a short explanation of those lines, marked with a (⋆). Explain what the variables stand for, what the constraints aim to achieve and how they succeed in doing this (Including the role of the big-M)?\n",
        "- 1b) [10pt] There are two big-M values used in the provided model's constraints, implemented with some value. Explain how you could derive better bounds for both values. \n",
        "- 2) [20pt] Imagine a version of this problem, that does not have the `earliest arrival` restriction on the arrival times. Explain why we cannot just remove the $\\tau$ variables and all constraints in which they occur. Hint: Test what would happen in the instance with 10 nodes and seed 4.\n",
        "- 3a) [10pt] The provided model aims to minimize the total travel time of a route. However, we also know how to compute the total fuel consumption, as a function of travel times and load at each edge. Explain how you could change to model to explicitly minimize the total fuel usage instead of the total travel time. Make sure to fully **mathematically** write out the additions/changes you make to the model.\n",
        "- 3b) [10pt] Implement you solution to 3a). You should be able to do this without changing or repeating code in the provided function `make_base_model`. Rather build your model on top of the model this function returns. \n",
        "- 3c) [5pt] Solve both the provided model as well as your new model on instances of `size=10` with `seed=0...5` (so six instances in total) and plot the solutions. With your new model, for some instances it could take up to 5 minutes to find the optimal solution. The instances are generated in such a way that the first node has always nonnegative demand, i.e., it is always a pickup node.\n",
        "- 3d) [10pt] Compare the results between both models. Comment on the differences and explain if they are as expected. Did we manage to save fuel? How was this achieved?\n",
        "- 4a) [10pt] How could you adjust the provided model (with time objective) to work for $k \\geq 2$ vehicles that both serve a part of the nodes? Assume each node cannot be visited by more than one truck. Make use of fixed starting locations $s_1, \\dots, s_k$ as well as fixed finish locations $t_1, \\dots, t_k$. It does not matter which vehicle ends up in which location, i.e., for instance both routes ($s_1, \\dots, t_1$) or ($s_1, \\dots, t_2$) would be fine. Write down how to adjust the model **mathematically**.\n",
        "- 4b) [5pt] Implement the solution for question 4a) for $k=2$. You can use `generate_instance(n_nodes=10, seed=4, n_vehicles=2)` and `generate_instance(n_nodes=20, seed=4, n_vehicles=2)` to generate a example instance and `plot_solution(coords, model)` to check your model. Assume the first 2 nodes in the instance to be the source nodes and the last 2 nodes to be the target nodes. The instances are generated in such a way that the first 2 nodes have always nonnegative demand, i.e., they are always pickup nodes."
      ],
      "metadata": {
        "id": "lgzZQ7PrBge9"
      }
    },
    {
      "cell_type": "markdown",
      "source": [
        "## Solutions"
      ],
      "metadata": {
        "id": "5nTjcW4I-mfR"
      }
    },
    {
      "cell_type": "markdown",
      "source": [
        "### 1a)\n",
        "\n",
        "*   $\\ell_i$: load of the truck at node $i$.\n",
        "*   $d_i$: demand at node $i$. \n",
        "*   $\\ell_s = d_s$: load of starting node = demand of starting node because the truck starts at $s$.\n",
        "*   $\\ell_i + d_j \\leq \\ell_j + (1 - x_{i, j})\\cdot M_{load}$ and $\\ell_i + d_j \\geq \\ell_j - (1 - x_{i, j})\\cdot M_{load}$: if $(i,j)$ is the chosen route then $x_{i,j} = 1$ then $\\ell_i + d_j = \\ell_j$, i.e the load when the truck arrives at $i$ and carry the demand at $j$ must have the same load when leaving $j$. On the other hand, if $(i,j)$ is not the chosen route then $\\ell_j - M_{load} \\leq \\ell_i + d_j \\leq \\ell_j + M_{load}$ making the constraint effectively redundant because of the magnitude of $M_{load}$, which is chosen to be so large that $\\ell_i + d_j$ will always satisfy the constraint. \n",
        "*   $\\ell_i \\geq 1$: the load must always be non-negative otherwise it would not make sense. \n",
        "\n",
        "\n",
        "\n"
      ],
      "metadata": {
        "id": "MsT5nbeU-qaa"
      }
    },
    {
      "cell_type": "markdown",
      "source": [],
      "metadata": {
        "id": "Rdm8-d7G-uDR"
      }
    },
    {
      "cell_type": "markdown",
      "source": [
        "### 1b)"
      ],
      "metadata": {
        "id": "395iO2CQ-ucB"
      }
    },
    {
      "cell_type": "markdown",
      "source": [
        "For $M_{load}$, let $M_{load}$ be the sum of the positive demand for each node then it follows that $\\ell_i - \\ell_j + d_i \\leq M_{load}$ for all $i,j$ because $M_{load}$ already contains the information of $\\ell_i, d_i$ for all $i$. For example, in the worst case, if the paths from the source to $i$ and $j$ have no common edge then the sum of the loads at $i$ and $j$ will be smaller than $M_{load}$ since $M_{load}$ represents the total amount of demand. On the other hand, if their path shares any common edge then the expression $\\ell_i - \\ell_j$ will cancel the common ones and revert to the previous case. Note that this new $M_{load}$ is smaller than the original one. \n",
        "\n",
        "We can apply the same logic to $M_{arrival\\_time}$ and let it be $\\sum_{i}\\sum_{j} T_{i,j}$ which is smaller than the original quantity. "
      ],
      "metadata": {
        "id": "vWPFJi36-znK"
      }
    },
    {
      "cell_type": "markdown",
      "source": [
        "### 2)"
      ],
      "metadata": {
        "id": "rMGZdip7-zvZ"
      }
    },
    {
      "cell_type": "code",
      "source": [
        "def make_ex2_model(demands, travel_times):\n",
        "    model = pyo.ConcreteModel()\n",
        "\n",
        "    # Parameters\n",
        "    model.n_nodes = len(demands)\n",
        "\n",
        "    # Big-M values\n",
        "    model.M_load = demands.max() * model.n_nodes + 1\n",
        "    model.M_arrival_time = travel_times.max().max() * model.n_nodes + 1\n",
        "\n",
        "    # Sets\n",
        "    model.nodes = pyo.RangeSet(model.n_nodes)\n",
        "\n",
        "    # Variables\n",
        "    model.arc = pyo.Var(model.nodes, model.nodes, domain=pyo.Binary, initialize=0)\n",
        "    model.node_load = pyo.Var(model.nodes, domain=pyo.NonNegativeReals, initialize=0)\n",
        "    \n",
        "    model.node_arrival = pyo.Var(model.nodes, domain=pyo.NonNegativeReals, initialize=0)\n",
        "\n",
        "    # Expressions \n",
        "    @model.Expression()\n",
        "    def total_travel_time(m):\n",
        "        return sum(m.arc[i, j] * travel_times[i][j] for i in m.nodes for j in m.nodes)\n",
        "\n",
        "    # Objectives\n",
        "    # (Note that we do not define any objective here yet, in order to be\n",
        "    #  able to choose between different expressions to act as objective later)\n",
        "\n",
        "    # Constraints\n",
        "    @model.Constraint(model.nodes - {model.n_nodes}) # All nodes except target node\n",
        "    def one_outgoing(m, i):\n",
        "        return sum(m.arc[i, j] for j in m.nodes if i != j) == 1\n",
        "\n",
        "    @model.Constraint(model.nodes - {1}) # All nodes except source node\n",
        "    def one_incoming(m, j):\n",
        "        return sum(m.arc[i, j] for i in m.nodes if i != j) == 1\n",
        "\n",
        "    # @model.Constraint(model.nodes, model.nodes)\n",
        "    # def node_arrivals(m, i, j):\n",
        "    #     return m.node_arrival[i] + travel_times[i][j] <= m.node_arrival[j] + m.M_arrival_time * (1 - m.arc[i, j])\n",
        "\n",
        "    # @model.Constraint(model.nodes)\n",
        "    # def time_windows_open(m, i):\n",
        "    #     return earliest_arrivals[i] <= m.node_arrival[i]\n",
        "\n",
        "    @model.Constraint()\n",
        "    def start_load(m):\n",
        "        return m.node_load[1] == demands[1]\n",
        "\n",
        "    @model.Constraint(model.nodes, model.nodes)\n",
        "    def node_loads_upper(m, i, j):\n",
        "        return m.node_load[i] + demands[j] <= m.node_load[j] + m.M_load * (1 - m.arc[i, j])\n",
        "    \n",
        "    @model.Constraint(model.nodes, model.nodes)\n",
        "    def node_loads_lower(m, i, j):\n",
        "        return m.node_load[i] + demands[j] >= m.node_load[j] - m.M_load * (1 - m.arc[i, j])\n",
        "\n",
        "    return model"
      ],
      "metadata": {
        "id": "QI9DpGNdYoKx"
      },
      "execution_count": 8,
      "outputs": []
    },
    {
      "cell_type": "code",
      "source": [
        "instance2_1 = generate_instance(n_nodes=10, seed=4)\n",
        "travel_times2_1 = create_travel_times_matrix(instance2_1)\n",
        "\n",
        "display(Markdown(\"## Instance of Ex 2 (with tau)\"))\n",
        "model2_1 = make_base_model(instance2_1[\"demand\"], instance2_1[\"earliest_arrival\"], travel_times2_1)\n",
        "# Set model objective here, using an earlier defined expression\n",
        "model2_1.obj = pyo.Objective(expr=model2_1.total_travel_time)\n",
        "solve_model(solver, model2_1)\n",
        "print(\"Total travel time: %.2f\" % model2_1.total_travel_time())\n",
        "\n",
        "plot_solution(instance2_1[\"coord\"], model2_1)"
      ],
      "metadata": {
        "colab": {
          "base_uri": "https://localhost:8080/",
          "height": 487
        },
        "id": "MKhSyEKbbRIn",
        "outputId": "d5c5f9cb-7fb6-4494-8967-efbbc0ad8d53"
      },
      "execution_count": 9,
      "outputs": [
        {
          "output_type": "display_data",
          "data": {
            "text/plain": [
              "<IPython.core.display.Markdown object>"
            ],
            "text/markdown": "## Instance of Ex 2 (with tau)"
          },
          "metadata": {}
        },
        {
          "output_type": "stream",
          "name": "stdout",
          "text": [
            "Optimal solution found in 8.82s\n",
            "Total travel time: 220.17\n"
          ]
        },
        {
          "output_type": "display_data",
          "data": {
            "text/plain": [
              "<Figure size 1728x432 with 2 Axes>"
            ],
            "image/png": "[encoded data removed]"
          },
          "metadata": {
            "needs_background": "light"
          }
        }
      ]
    },
    {
      "cell_type": "code",
      "source": [
        "instance2 = generate_instance(n_nodes=10, seed=4)\n",
        "travel_times2 = create_travel_times_matrix(instance2)\n",
        "\n",
        "display(Markdown(\"## Instance of Ex 2 (without tau)\"))\n",
        "model2 = make_ex2_model(instance2[\"demand\"], travel_times2)\n",
        "# Set model objective here, using an earlier defined expression\n",
        "model2.obj = pyo.Objective(expr=model2.total_travel_time)\n",
        "solve_model(solver, model2)\n",
        "print(\"Total travel time: %.2f\" % model2.total_travel_time())\n",
        "\n",
        "plot_solution(instance2[\"coord\"], model2)"
      ],
      "metadata": {
        "colab": {
          "base_uri": "https://localhost:8080/",
          "height": 487
        },
        "id": "GOr6lOZSdq9U",
        "outputId": "e48e3fe6-1224-45c3-8f3b-1626ed223182"
      },
      "execution_count": 10,
      "outputs": [
        {
          "output_type": "display_data",
          "data": {
            "text/plain": [
              "<IPython.core.display.Markdown object>"
            ],
            "text/markdown": "## Instance of Ex 2 (without tau)"
          },
          "metadata": {}
        },
        {
          "output_type": "stream",
          "name": "stdout",
          "text": [
            "Optimal solution found in 1.10s\n",
            "Total travel time: 201.09\n"
          ]
        },
        {
          "output_type": "display_data",
          "data": {
            "text/plain": [
              "<Figure size 1728x432 with 2 Axes>"
            ],
            "image/png": "[encoded data removed]"
          },
          "metadata": {
            "needs_background": "light"
          }
        }
      ]
    },
    {
      "cell_type": "markdown",
      "source": [
        "It seems that, by removing $\\tau$ and all the constraints with it, the network also remove where are the source and target of the network. "
      ],
      "metadata": {
        "id": "E6kjP2SG-1tp"
      }
    },
    {
      "cell_type": "markdown",
      "source": [
        "### 3a)"
      ],
      "metadata": {
        "id": "kpDWvVOv-49o"
      }
    },
    {
      "cell_type": "markdown",
      "source": [
        "The new model is \n",
        "\n",
        "\\begin{array}{lrclll}\n",
        " \\min & \\sum\\limits_{i \\in N} \\sum\\limits_{j \\in N} {x_{i, j}} \\cdot T_{i,j} \\cdot (0.02 \\cdot \\ell_i + 0.3) &&&& \\scriptstyle\\text{(Minimize the total fuel usage over all used edges)} \\\\\n",
        " \\mbox{s.t.} & \\sum\\limits_{j \\in N \\setminus \\{i\\}} x_{i, j} & = & 1 & \\forall i \\in N \\setminus \\{t\\} & \\scriptstyle\\text{(Every non-target node should have exactly one outgoing edge)}\\\\\n",
        " & \\sum\\limits_{i \\in N \\setminus \\{j\\}} x_{i, j} & = & 1 & \\forall j \\in N \\setminus \\{s\\} & \\scriptstyle\\text{(Every non-starting node should have exactly one incoming edge)}\\\\\\\\ & \\tau_i + T_{i, j} & \\leq & \\tau_j + (1 - x_{i, j})\\cdot M_{arrival\\_time} & \\forall (i, j) \\in N \\times N & \\scriptstyle\\text{(You do not arrive at a node before the arrival time at the previous node plus the travel time from there)}\\\\\n",
        " & r_i & \\leq & \\tau_i & \\forall i \\in N & \\scriptstyle\\text{(You should never arrive before the earliest pickup/delivery time at a node)}\\\\\\\\\n",
        " & \\ell_s & = & d_s && \\scriptstyle\\text{(⋆)} \\\\\n",
        " & \\ell_i + d_j & \\leq& \\ell_j + (1 - x_{i, j})\\cdot M_{load} & \\forall (i, j) \\in N \\times N & \\scriptstyle\\text{(⋆)}\\\\\n",
        " & \\ell_i + d_j & \\geq& \\ell_j - (1 - x_{i, j})\\cdot M_{load} & \\forall (i, j) \\in N \\times N & \\scriptstyle\\text{(⋆)}\\\\\\\\\n",
        " & \\tau_i & \\geq & 0 & \\forall i \\in N & \\scriptstyle\\text{(Variable representing the time when arriving at the corresponding node)}\\\\\n",
        " & \\ell_i & \\geq & 0 & \\forall i \\in N & \\scriptstyle\\text{(⋆)}\\\\\n",
        " & x_{i, j} & \\in & \\mathbb{B} & \\forall (i, j) \\in N \\times N & \\scriptstyle\\text{(Binary variable with value true iff the corresponding edge is part of the chosen route)} \\\\\n",
        "\\end{array}\n",
        "\n",
        "We can linearize the objective function by letting $z_{i,j} = x_{i,j} \\cdot \\ell_i$ with the additional constraints \n",
        "\n",
        "\\begin{align*}\n",
        "z_{i,j} &\\leq \\ell_i\\\\\n",
        "z_{i,j} &\\geq \\ell_i - (1 - x_{i,j}) M_{load}\\\\\n",
        "z_{i,j} &\\geq 0\\\\\n",
        "z_{i,j} &\\leq x_{i,j} M_{load}\n",
        "\\end{align*}\n",
        "\n",
        "The model becomes \n",
        "\n",
        "\\begin{array}{lrclll}\n",
        " \\min & \\sum\\limits_{i \\in N} \\sum\\limits_{j \\in N} 0.02 \\cdot z_{i,j} \\cdot T_{i,j} + x_{i,j} \\cdot T_{i,j} \\cdot 0.3 &&&& \\scriptstyle\\text{(Minimize the total fuel usage over all used edges)} \\\\\n",
        " \\mbox{s.t.} & \\sum\\limits_{j \\in N \\setminus \\{i\\}} x_{i, j} & = & 1 & \\forall i \\in N \\setminus \\{t\\} & \\scriptstyle\\text{(Every non-target node should have exactly one outgoing edge)}\\\\\n",
        " & \\sum\\limits_{i \\in N \\setminus \\{j\\}} x_{i, j} & = & 1 & \\forall j \\in N \\setminus \\{s\\} & \\scriptstyle\\text{(Every non-starting node should have exactly one incoming edge)}\\\\\\\\ & \\tau_i + T_{i, j} & \\leq & \\tau_j + (1 - x_{i, j})\\cdot M_{arrival\\_time} & \\forall (i, j) \\in N \\times N & \\scriptstyle\\text{(You do not arrive at a node before the arrival time at the previous node plus the travel time from there)}\\\\\n",
        " & r_i & \\leq & \\tau_i & \\forall i \\in N & \\scriptstyle\\text{(You should never arrive before the earliest pickup/delivery time at a node)}\\\\\\\\\n",
        " & \\ell_s & = & d_s && \\scriptstyle\\text{(⋆)} \\\\\n",
        " & \\ell_i + d_j & \\leq& \\ell_j + (1 - x_{i, j})\\cdot M_{load} & \\forall (i, j) \\in N \\times N & \\scriptstyle\\text{(⋆)}\\\\\n",
        " & \\ell_i + d_j & \\geq& \\ell_j - (1 - x_{i, j})\\cdot M_{load} & \\forall (i, j) \\in N \\times N & \\scriptstyle\\text{(⋆)}\\\\\\\\\n",
        "&z_{i,j} &\\leq &\\ell_i\\\\\n",
        "&z_{i,j} &\\geq &\\ell_i - (1 - x_{i,j}) M_{load}\\\\\n",
        "&z_{i,j} &\\geq &0\\\\\n",
        "&z_{i,j} &\\leq &x_{i,j} M_{load}\\\\\\\\\n",
        " & \\tau_i & \\geq & 0 & \\forall i \\in N & \\scriptstyle\\text{(Variable representing the time when arriving at the corresponding node)}\\\\\n",
        " & \\ell_i & \\geq & 0 & \\forall i \\in N & \\scriptstyle\\text{(⋆)}\\\\\n",
        " & x_{i, j} & \\in & \\mathbb{B} & \\forall (i, j) \\in N \\times N & \\scriptstyle\\text{(Binary variable with value true iff the corresponding edge is part of the chosen route)} \\\\\n",
        "\\end{array}"
      ],
      "metadata": {
        "id": "DkVRvk6t-5A5"
      }
    },
    {
      "cell_type": "markdown",
      "source": [
        "### 3b)"
      ],
      "metadata": {
        "id": "7CeCfQoE-8gh"
      }
    },
    {
      "cell_type": "markdown",
      "source": [
        "Adding the additional constraints to the base model according to 3a, we have: "
      ],
      "metadata": {
        "id": "JNvJHths-9vx"
      }
    },
    {
      "cell_type": "code",
      "source": [
        "instance3 = generate_instance(n_nodes=5, seed=4)\n",
        "travel_times3 = create_travel_times_matrix(instance3)\n",
        "\n",
        "display(Markdown(\"## Exercise 3 instance\"))\n",
        "model3 = make_base_model(instance3[\"demand\"], instance3[\"earliest_arrival\"], \n",
        "                         travel_times3)\n",
        "model3.z = pyo.Var(model3.nodes, model3.nodes, domain=pyo.NonNegativeReals, \n",
        "                   initialize=0)\n",
        "\n",
        "@model3.Constraint(model3.nodes, model3.nodes)\n",
        "def z_l_constraint1(m, i, j):\n",
        "  return m.z[i, j] <= m.node_load[i]\n",
        "\n",
        "@model3.Constraint(model3.nodes, model3.nodes)\n",
        "def z_l_constraint2(m, i, j):\n",
        "  return m.z[i, j] >= m.node_load[i] - (1 - m.arc[i, j]) * m.M_load\n",
        "\n",
        "@model3.Constraint(model3.nodes, model3.nodes)\n",
        "def z_l_constraint3(m, i, j):\n",
        "  return m.z[i, j] <= m.arc[i, j] * m.M_load\n",
        "\n",
        "model3.objective = pyo.Objective(expr=sum(0.02*model3.z[i, j] * travel_times3[i][j] + model3.arc[i, j] *travel_times3[i][j] *0.3 for i in model3.nodes for j in model3.nodes),\n",
        "                                 sense=pyo.minimize)\n",
        "\n",
        "solve_model(solver, model3)\n",
        "print(\"Total fuel usage: %.2f\" % model3.objective())\n",
        "plot_solution(instance3[\"coord\"], model3)"
      ],
      "metadata": {
        "id": "P5nRktSa-9Ho",
        "colab": {
          "base_uri": "https://localhost:8080/",
          "height": 487
        },
        "outputId": "cca95b1b-a756-4f18-9a16-07784c44c0c1"
      },
      "execution_count": 11,
      "outputs": [
        {
          "output_type": "display_data",
          "data": {
            "text/plain": [
              "<IPython.core.display.Markdown object>"
            ],
            "text/markdown": "## Exercise 3 instance"
          },
          "metadata": {}
        },
        {
          "output_type": "stream",
          "name": "stdout",
          "text": [
            "Optimal solution found in 0.32s\n",
            "Total fuel usage: 46.34\n"
          ]
        },
        {
          "output_type": "display_data",
          "data": {
            "text/plain": [
              "<Figure size 1728x432 with 2 Axes>"
            ],
            "image/png": "[encoded data removed]"
          },
          "metadata": {
            "needs_background": "light"
          }
        }
      ]
    },
    {
      "cell_type": "markdown",
      "source": [
        "### 3c)"
      ],
      "metadata": {
        "id": "oXe1FEOC-9x6"
      }
    },
    {
      "cell_type": "markdown",
      "source": [],
      "metadata": {
        "id": "Zg4tn0HJ-90E"
      }
    },
    {
      "cell_type": "code",
      "source": [],
      "metadata": {
        "id": "cMkaGTCs_BPZ"
      },
      "execution_count": null,
      "outputs": []
    },
    {
      "cell_type": "markdown",
      "source": [
        "### 3d)"
      ],
      "metadata": {
        "id": "1dl0zL7T-935"
      }
    },
    {
      "cell_type": "markdown",
      "source": [],
      "metadata": {
        "id": "N-dSZ_XZ_Bxh"
      }
    },
    {
      "cell_type": "markdown",
      "source": [
        "### 4a)"
      ],
      "metadata": {
        "id": "7EJZmllI_INS"
      }
    },
    {
      "cell_type": "markdown",
      "source": [],
      "metadata": {
        "id": "ykY3O9_Z_J-6"
      }
    },
    {
      "cell_type": "markdown",
      "source": [
        "### 4b)"
      ],
      "metadata": {
        "id": "5XvAGXts_KBZ"
      }
    },
    {
      "cell_type": "markdown",
      "source": [],
      "metadata": {
        "id": "RqMGC3tm_L_6"
      }
    },
    {
      "cell_type": "code",
      "source": [],
      "metadata": {
        "id": "BDEIL9xm_JfV"
      },
      "execution_count": null,
      "outputs": []
    }
  ]
}